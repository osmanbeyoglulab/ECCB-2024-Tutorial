{
 "cells": [
  {
   "cell_type": "markdown",
   "metadata": {},
   "source": [
    "# Preliminary work\n",
    "The session showcases how to infer activities of transcription factors from single-cell RNA-sequencing (scRNA-seq) data and spatial transcriptomics (ST) data using three methods:\n",
    "- decoupleR (scRNA-seq based)\n",
    "- pySCENIC (scRNA-seq based)\n",
    "- STAN (ST-based)\n",
    "\n",
    "Please follow this notebook after you have [set up the environment](https://github.com/osmanbeyoglulab/Tutorials-on-ISMB-2024?tab=readme-ov-file#environment-set-up)."
   ]
  },
  {
   "cell_type": "code",
   "execution_count": 1,
   "metadata": {},
   "outputs": [],
   "source": [
    "import scanpy as sc\n",
    "import warnings\n",
    "warnings.filterwarnings(\"ignore\")"
   ]
  },
  {
   "cell_type": "markdown",
   "metadata": {},
   "source": [
    "## Downloading datasets\n",
    "The following scRNA-seq data consists in 3k peripheral blood mononuclear cells (PBMCs) from a Healthy Donor and is freely available from [10x Genomics](https://support.10xgenomics.com/single-cell-gene-expression/datasets/1.1.0/pbmc3k). This command downloads 5.9 MB of data upon the first call and stores it in `data/pbmc3k_raw.h5ad`."
   ]
  },
  {
   "cell_type": "code",
   "execution_count": 2,
   "metadata": {},
   "outputs": [
    {
     "data": {
      "text/plain": [
       "AnnData object with n_obs × n_vars = 2700 × 32738\n",
       "    var: 'gene_ids'"
      ]
     },
     "execution_count": 2,
     "metadata": {},
     "output_type": "execute_result"
    }
   ],
   "source": [
    "sc.datasets.pbmc3k()"
   ]
  },
  {
   "cell_type": "markdown",
   "metadata": {},
   "source": [
    "The following scRNA-seq data are processed 3k PBMCs of the above using [the basic tutorial](https://scanpy.readthedocs.io/en/stable/tutorials/basics/clustering-2017.html). This command downloads 24.7 MB of data upon the first call and stores it in `data/pbmc3k_processed.h5ad`."
   ]
  },
  {
   "cell_type": "code",
   "execution_count": 3,
   "metadata": {},
   "outputs": [
    {
     "data": {
      "text/plain": [
       "AnnData object with n_obs × n_vars = 2638 × 1838\n",
       "    obs: 'n_genes', 'percent_mito', 'n_counts', 'louvain'\n",
       "    var: 'n_cells'\n",
       "    uns: 'draw_graph', 'louvain', 'louvain_colors', 'neighbors', 'pca', 'rank_genes_groups'\n",
       "    obsm: 'X_pca', 'X_tsne', 'X_umap', 'X_draw_graph_fr'\n",
       "    varm: 'PCs'\n",
       "    obsp: 'distances', 'connectivities'"
      ]
     },
     "execution_count": 3,
     "metadata": {},
     "output_type": "execute_result"
    }
   ],
   "source": [
    "sc.datasets.pbmc3k_processed()"
   ]
  },
  {
   "cell_type": "markdown",
   "metadata": {},
   "source": [
    "We will download a Visium spatial transcriptomics dataset of a human lymph node freely available from [10X Genomics](https://support.10xgenomics.com/spatial-gene-expression/datasets/1.0.0/V1_Human_Lymph_Node). This command downloads 47.4 MB of dataset upon the first call and stores it in `data/V1_Human_Lymph_Node/`, including the high-resolution tissue image."
   ]
  },
  {
   "cell_type": "code",
   "execution_count": 4,
   "metadata": {},
   "outputs": [
    {
     "data": {
      "text/plain": [
       "AnnData object with n_obs × n_vars = 4035 × 36601\n",
       "    obs: 'in_tissue', 'array_row', 'array_col'\n",
       "    var: 'gene_ids', 'feature_types', 'genome'\n",
       "    uns: 'spatial'\n",
       "    obsm: 'spatial'"
      ]
     },
     "execution_count": 4,
     "metadata": {},
     "output_type": "execute_result"
    }
   ],
   "source": [
    "sc.datasets.visium_sge(sample_id=\"V1_Human_Lymph_Node\")"
   ]
  },
  {
   "cell_type": "markdown",
   "metadata": {},
   "source": [
    "## decoupleR (scRNA-seq based)\n",
    "[decoupler](https://doi.org/10.1093/bioadv/vbac016) [1] is a package containing different statistical methods to extract biological activities from omics data within a unified framework, including pathway activity inference and transcription factor activity inference. We follow [the instruction](https://decoupler-py.readthedocs.io/en/latest/installation.html) to install decoupler.\n",
    "\n",
    "[1] Badia-i-Mompel, Pau, et al. \"decoupleR: ensemble of computational methods to infer biological activities from omics data.\" _Bioinformatics Advances_ 2.1 (2022): vbac016."
   ]
  },
  {
   "cell_type": "code",
   "execution_count": null,
   "metadata": {},
   "outputs": [],
   "source": [
    "pip install decoupler"
   ]
  },
  {
   "cell_type": "code",
   "execution_count": null,
   "metadata": {},
   "outputs": [],
   "source": [
    "import decoupler\n",
    "decoupler.__version__"
   ]
  },
  {
   "cell_type": "markdown",
   "metadata": {},
   "source": [
    "## pySCENIC (scRNA-seq based)\n",
    "[pySCENIC](https://www.nature.com/articles/s41596-020-0336-2) [2] is a package containing different statistical methods to extract biological activities from single-cell RNA-seq data within a unified framework, including gene regulatory network inference and transcription factor activity inference. We follow [the instruction](https://pyscenic.readthedocs.io/en/latest/installation.html) to install pySCENIC. pySCENIC depends on packages e.g. arboreto and ctxcore. \n",
    "\n",
    "**IMPORTANT:** To install and use pySCENIC, we recommend creating a new conda environment as instructed.\n",
    "\n",
    "[2] Van de Sande, Bram, et al. \"A scalable SCENIC workflow for single-cell gene regulatory network analysis.\" _Nature Protocols_ 15.7 (2020): 2247-2276.\n"
   ]
  },
  {
   "cell_type": "code",
   "execution_count": null,
   "metadata": {},
   "outputs": [],
   "source": [
    "pip install pyscenic"
   ]
  },
  {
   "cell_type": "code",
   "execution_count": null,
   "metadata": {},
   "outputs": [],
   "source": [
    "import pyscenic\n",
    "pyscenic.__version__"
   ]
  },
  {
   "cell_type": "markdown",
   "metadata": {},
   "source": [
    "### Downloading resources and databases\n",
    "\n",
    "Download:\n",
    "- the list of transcription factors of human;\n",
    "- the motif annotations of human;\n",
    "- the gene-based [cisTarget databases](https://resources.aertslab.org/cistarget/databases/homo_sapiens/hg38/refseq_r80/mc_v10_clust/gene_based/) generated using the 2022 motif collection.\n",
    "\n",
    "**IMPORTANT:** The cisTarget database files are quite big (unit: GB). Alternatively, to avoid corrupt or incomplete downloads, files can be downloaded with [zsync_curl](https://resources.aertslab.org/cistarget/). It allows resuming already partially downloaded databases and only will download missing or redownload corrupted chunks.\n"
   ]
  },
  {
   "cell_type": "code",
   "execution_count": null,
   "metadata": {},
   "outputs": [],
   "source": [
    "!mkdir resources_pyscenic\n",
    "!curl https://resources.aertslab.org/cistarget/tf_lists/allTFs_hg38.txt \\\n",
    "    -o resources_pyscenic/allTFs_hg38.txt\n",
    "!curl https://resources.aertslab.org/cistarget/motif2tf/motifs-v10nr_clust-nr.hgnc-m0.001-o0.0.tbl \\\n",
    "    -o resources_pyscenic/motifs-v10nr_clust-nr.hgnc-m0.001-o0.0.tbl\n",
    "!curl https://resources.aertslab.org/cistarget/databases/homo_sapiens/hg38/refseq_r80/mc_v10_clust/gene_based/hg38_10kbp_up_10kbp_down_full_tx_v10_clust.genes_vs_motifs.rankings.feather \\\n",
    "    -o resources_pyscenic/hg38_10kbp_up_10kbp_down_full_tx_v10_clust.genes_vs_motifs.rankings.feather\n",
    "!curl https://resources.aertslab.org/cistarget/databases/homo_sapiens/hg38/refseq_r80/mc_v10_clust/gene_based/hg38_500bp_up_100bp_down_full_tx_v10_clust.genes_vs_motifs.rankings.feather \\\n",
    "    -o resources_pyscenic/hg38_500bp_up_100bp_down_full_tx_v10_clust.genes_vs_motifs.rankings.feather"
   ]
  },
  {
   "cell_type": "markdown",
   "metadata": {},
   "source": [
    "## STAN (ST-based)\n",
    "[STAN](https://www.biorxiv.org/content/10.1101/2024.06.26.600782v1) [3] is a computational framework for inferring **spatially informed** transcription factor activity across cellular contexts. Specifically, STAN is a linear mixed-effects computational method that predicts spot-specific, spatially informed TF activities by integrating curated TF-target gene priors, mRNA expression, spatial coordinates, and morphological features from corresponding imaging data. \n",
    "\n",
    "[3] Zhang, Linan, et al. \"STAN, a computational framework for inferring spatially informed transcription factor activity across cellular contexts.\" _bioRxiv_ (2024): 2024-06."
   ]
  },
  {
   "cell_type": "markdown",
   "metadata": {},
   "source": [
    "### Downloading supporting files"
   ]
  },
  {
   "cell_type": "code",
   "execution_count": null,
   "metadata": {},
   "outputs": [],
   "source": [
    "!mkdir resources_stan\n",
    "!curl https://raw.githubusercontent.com/vitkl/cell2location_paper/1c645a0519f8f27ecef18468cf339d35d99f42e7/notebooks/selected_results/lymph_nodes_analysis/CoLocationModelNB4V2_34clusters_4039locations_10241genes_input_inferred_V4_batch1024_l2_0001_n_comb50_5_cps5_fpc3_alpha001/W_cell_density.csv \\\n",
    "    -o resources_stan/W_cell_density.csv\n",
    "!curl https://raw.githubusercontent.com/vitkl/cell2location_paper/1c645a0519f8f27ecef18468cf339d35d99f42e7/notebooks/selected_results/lymph_nodes_analysis/CoLocationModelNB4V2_34clusters_4039locations_10241genes_input_inferred_V4_batch1024_l2_0001_n_comb50_5_cps5_fpc3_alpha001/manual_GC_annot.csv \\\n",
    "    -o resources_stan/manual_GC_annot.csv"
   ]
  },
  {
   "cell_type": "code",
   "execution_count": 6,
   "metadata": {},
   "outputs": [
    {
     "data": {
      "text/html": [
       "<details>\n",
       "<summary>Click to view session information</summary>\n",
       "<pre>\n",
       "-----\n",
       "anndata             0.9.2\n",
       "scanpy              1.9.4\n",
       "session_info        1.0.0\n",
       "-----\n",
       "</pre>\n",
       "<details>\n",
       "<summary>Click to view modules imported as dependencies</summary>\n",
       "<pre>\n",
       "PIL                 10.0.0\n",
       "appnope             0.1.2\n",
       "asciitree           NA\n",
       "backcall            0.2.0\n",
       "cffi                1.14.4\n",
       "cloudpickle         2.2.1\n",
       "cycler              0.10.0\n",
       "cython_runtime      NA\n",
       "cytoolz             0.12.3\n",
       "dask                2023.5.0\n",
       "dateutil            2.8.2\n",
       "decorator           4.4.2\n",
       "defusedxml          0.6.0\n",
       "dill                0.3.8\n",
       "entrypoints         0.3\n",
       "fasteners           0.18\n",
       "h5py                3.9.0\n",
       "igraph              0.10.6\n",
       "importlib_metadata  NA\n",
       "importlib_resources NA\n",
       "ipykernel           5.4.2\n",
       "ipython_genutils    0.2.0\n",
       "jedi                0.18.0\n",
       "jinja2              2.11.2\n",
       "joblib              1.3.2\n",
       "kiwisolver          1.4.5\n",
       "leidenalg           0.10.1\n",
       "llvmlite            0.35.0\n",
       "lz4                 4.3.3\n",
       "markupsafe          1.1.1\n",
       "matplotlib          3.7.2\n",
       "mpl_toolkits        NA\n",
       "msgpack             1.0.8\n",
       "natsort             8.4.0\n",
       "numba               0.52.0\n",
       "numcodecs           0.11.0\n",
       "numexpr             2.8.6\n",
       "numpy               1.22.4\n",
       "packaging           20.8\n",
       "pandas              2.0.3\n",
       "parso               0.8.1\n",
       "pexpect             4.8.0\n",
       "pickle5             NA\n",
       "pickleshare         0.7.5\n",
       "pkg_resources       NA\n",
       "prompt_toolkit      3.0.8\n",
       "psutil              6.0.0\n",
       "ptyprocess          0.7.0\n",
       "pyarrow             16.0.0\n",
       "pygments            2.7.3\n",
       "pyparsing           2.4.7\n",
       "pytz                2023.3\n",
       "scipy               1.10.1\n",
       "six                 1.15.0\n",
       "sklearn             1.3.2\n",
       "storemagic          NA\n",
       "tblib               3.0.0\n",
       "texttable           1.6.7\n",
       "threadpoolctl       3.2.0\n",
       "tlz                 0.12.3\n",
       "toolz               0.12.0\n",
       "torch               2.2.1\n",
       "torchgen            NA\n",
       "tornado             6.1\n",
       "tqdm                4.66.1\n",
       "traitlets           5.0.5\n",
       "typing_extensions   NA\n",
       "wcwidth             0.2.5\n",
       "yaml                6.0.1\n",
       "zarr                2.16.1\n",
       "zipp                NA\n",
       "zmq                 20.0.0\n",
       "</pre>\n",
       "</details> <!-- seems like this ends pre, so might as well be explicit -->\n",
       "<pre>\n",
       "-----\n",
       "IPython             7.19.0\n",
       "jupyter_client      6.1.7\n",
       "jupyter_core        4.7.0\n",
       "notebook            6.1.6\n",
       "-----\n",
       "Python 3.8.5 (v3.8.5:580fbb018f, Jul 20 2020, 12:11:27) [Clang 6.0 (clang-600.0.57)]\n",
       "macOS-10.16-x86_64-i386-64bit\n",
       "-----\n",
       "Session information updated at 2024-07-09 12:38\n",
       "</pre>\n",
       "</details>"
      ],
      "text/plain": [
       "<IPython.core.display.HTML object>"
      ]
     },
     "execution_count": 6,
     "metadata": {},
     "output_type": "execute_result"
    }
   ],
   "source": [
    "import session_info\n",
    "session_info.show()"
   ]
  },
  {
   "cell_type": "code",
   "execution_count": null,
   "metadata": {},
   "outputs": [],
   "source": []
  }
 ],
 "metadata": {
  "kernelspec": {
   "display_name": "Python 3",
   "language": "python",
   "name": "python3"
  },
  "language_info": {
   "codemirror_mode": {
    "name": "ipython",
    "version": 3
   },
   "file_extension": ".py",
   "mimetype": "text/x-python",
   "name": "python",
   "nbconvert_exporter": "python",
   "pygments_lexer": "ipython3",
   "version": "3.8.5"
  }
 },
 "nbformat": 4,
 "nbformat_minor": 4
}
